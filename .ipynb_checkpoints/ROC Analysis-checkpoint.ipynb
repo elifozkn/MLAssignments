{
 "cells": [
  {
   "cell_type": "markdown",
   "metadata": {},
   "source": [
    "## Machine Learning Assignment 3 : ROC Analysis"
   ]
  },
  {
   "cell_type": "code",
   "execution_count": 27,
   "metadata": {},
   "outputs": [],
   "source": [
    "import math\n",
    "import pandas as pd \n",
    "import matplotlib.pyplot as plt \n",
    "import numpy as np "
   ]
  },
  {
   "cell_type": "code",
   "execution_count": 141,
   "metadata": {
    "scrolled": true
   },
   "outputs": [],
   "source": [
    "class ROC():\n",
    "    \n",
    "    def __init__(self, probs, trueClass): \n",
    "        self.probs = probs\n",
    "        self.trueClass = trueClass\n",
    "    \n",
    "    def compute_ROC_coordinates(self,probs,trueClass):\n",
    "         \n",
    "       # sorted_probs = probs.iloc[:,1]\n",
    "        sp = probs.iloc[:,1]\n",
    "        sorted_probs = sp.copy()\n",
    "        sorted_probs.sort_values(ascending = False, inplace = True)\n",
    "        trueClass = trueClass.reindex(index = sorted_probs.index)\n",
    "    \n",
    "        P = 0\n",
    "        N = 0\n",
    "        ##calculate P and N\n",
    "        for i in range(0,len(trueClass)): \n",
    "            if(trueClass.iloc[i][0] == 'tested_positive'): \n",
    "                P +=1\n",
    "            else: \n",
    "                N +=1\n",
    "        fp = 0\n",
    "        tp = 0\n",
    "        \n",
    "        ROC_coordinates = []\n",
    "        previous_prob = -math.inf\n",
    "        \n",
    "        for i in range(0,len(trueClass)): \n",
    "            if(sorted_probs.iloc[i] != previous_prob):\n",
    "                ROC_coordinates.append((fp/N, tp/P))\n",
    "                previous_prob = sorted_probs.iloc[i]\n",
    "                \n",
    "            if(trueClass.iloc[i][0] == 'tested_positive'):\n",
    "                tp = tp +1\n",
    "            else: \n",
    "                fp = fp +1\n",
    "            ROC_coordinates.append((fp/N, tp/P))\n",
    "            output = pd.DataFrame(ROC_coordinates, columns = ['TruePositiveRate','FalsePositiveRate'])\n",
    "            return output\n",
    "                \n",
    "    \n",
    "   \n",
    "    ##confusion matrix : contains tp,fp,tn,fn values\n",
    "    ## tp = confusion_matrix[0][0]\n",
    "    ## fp = confusion_matrix[0][1]\n",
    "    ## fn = confusion_matrix[1][0]\n",
    "    ## tn = confusion_matrix[1][1]\n",
    "    \n",
    "    \n",
    "    ## fpr = fp/fp+tn\n",
    "    ## tpr = tp/tp+fn\n",
    "    \n",
    "    def plot_roc_curve(self,roc_coordinates):\n",
    "        plotted = roc_coordinates.plot.line('TruePositiveRate','FalsePositiveRate' , color='orange', label='ROC')\n",
    "        plt.plot([0, 1], [0, 1], color='darkblue', linestyle='--')\n",
    "        plt.xlabel('False Positive Rate')\n",
    "        plt.ylabel('True Positive Rate')\n",
    "        plt.title('Receiver Operating Characteristic (ROC) Curve')\n",
    "        plt.legend()\n",
    "        plt.show()\n",
    "    \n",
    "    def compute_AUC(self,coordinates):\n",
    "        aoc = np.trapz(coordinates['TruePositiveRate'], coordinates['FalsePositiveRate'])\n",
    "        return aoc\n",
    "    \n",
    "    \n",
    "  \n",
    "        \n",
    "           \n",
    "    "
   ]
  },
  {
   "cell_type": "code",
   "execution_count": null,
   "metadata": {},
   "outputs": [],
   "source": []
  },
  {
   "cell_type": "code",
   "execution_count": 142,
   "metadata": {},
   "outputs": [],
   "source": [
    "from sklearn.model_selection import train_test_split\n",
    "from sklearn.ensemble import RandomForestClassifier"
   ]
  },
  {
   "cell_type": "code",
   "execution_count": 143,
   "metadata": {},
   "outputs": [
    {
     "data": {
      "text/html": [
       "<div>\n",
       "<style scoped>\n",
       "    .dataframe tbody tr th:only-of-type {\n",
       "        vertical-align: middle;\n",
       "    }\n",
       "\n",
       "    .dataframe tbody tr th {\n",
       "        vertical-align: top;\n",
       "    }\n",
       "\n",
       "    .dataframe thead th {\n",
       "        text-align: right;\n",
       "    }\n",
       "</style>\n",
       "<table border=\"1\" class=\"dataframe\">\n",
       "  <thead>\n",
       "    <tr style=\"text-align: right;\">\n",
       "      <th></th>\n",
       "      <th>preg</th>\n",
       "      <th>plas</th>\n",
       "      <th>pres</th>\n",
       "      <th>skin</th>\n",
       "      <th>insu</th>\n",
       "      <th>mass</th>\n",
       "      <th>pedi</th>\n",
       "      <th>age</th>\n",
       "      <th>class</th>\n",
       "    </tr>\n",
       "  </thead>\n",
       "  <tbody>\n",
       "    <tr>\n",
       "      <th>0</th>\n",
       "      <td>6</td>\n",
       "      <td>148</td>\n",
       "      <td>72</td>\n",
       "      <td>35</td>\n",
       "      <td>0</td>\n",
       "      <td>33.6</td>\n",
       "      <td>0.627</td>\n",
       "      <td>50</td>\n",
       "      <td>tested_positive</td>\n",
       "    </tr>\n",
       "    <tr>\n",
       "      <th>1</th>\n",
       "      <td>1</td>\n",
       "      <td>85</td>\n",
       "      <td>66</td>\n",
       "      <td>29</td>\n",
       "      <td>0</td>\n",
       "      <td>26.6</td>\n",
       "      <td>0.351</td>\n",
       "      <td>31</td>\n",
       "      <td>tested_negative</td>\n",
       "    </tr>\n",
       "    <tr>\n",
       "      <th>2</th>\n",
       "      <td>8</td>\n",
       "      <td>183</td>\n",
       "      <td>64</td>\n",
       "      <td>0</td>\n",
       "      <td>0</td>\n",
       "      <td>23.3</td>\n",
       "      <td>0.672</td>\n",
       "      <td>32</td>\n",
       "      <td>tested_positive</td>\n",
       "    </tr>\n",
       "    <tr>\n",
       "      <th>3</th>\n",
       "      <td>1</td>\n",
       "      <td>89</td>\n",
       "      <td>66</td>\n",
       "      <td>23</td>\n",
       "      <td>94</td>\n",
       "      <td>28.1</td>\n",
       "      <td>0.167</td>\n",
       "      <td>21</td>\n",
       "      <td>tested_negative</td>\n",
       "    </tr>\n",
       "    <tr>\n",
       "      <th>4</th>\n",
       "      <td>0</td>\n",
       "      <td>137</td>\n",
       "      <td>40</td>\n",
       "      <td>35</td>\n",
       "      <td>168</td>\n",
       "      <td>43.1</td>\n",
       "      <td>2.288</td>\n",
       "      <td>33</td>\n",
       "      <td>tested_positive</td>\n",
       "    </tr>\n",
       "  </tbody>\n",
       "</table>\n",
       "</div>"
      ],
      "text/plain": [
       "   preg  plas  pres  skin  insu  mass   pedi  age            class\n",
       "0     6   148    72    35     0  33.6  0.627   50  tested_positive\n",
       "1     1    85    66    29     0  26.6  0.351   31  tested_negative\n",
       "2     8   183    64     0     0  23.3  0.672   32  tested_positive\n",
       "3     1    89    66    23    94  28.1  0.167   21  tested_negative\n",
       "4     0   137    40    35   168  43.1  2.288   33  tested_positive"
      ]
     },
     "execution_count": 143,
     "metadata": {},
     "output_type": "execute_result"
    }
   ],
   "source": [
    "data = pd.read_csv('diabetes.csv')\n",
    "data.head()\n",
    "Y = data['class']\n",
    "X = data.drop(['class'],axis = 1)\n",
    "X_train, X_test, Y_train, Y_test = train_test_split(X,Y,test_size = 0.34, random_state = 10)\n",
    "data.head()"
   ]
  },
  {
   "cell_type": "markdown",
   "metadata": {},
   "source": [
    "#### As seen in the plotted ROC curve below, there is an unexpected behaviour since true positive and false positive rates are both 0 and also area under curve is also  zero which means this fitting does not perform well. "
   ]
  },
  {
   "cell_type": "code",
   "execution_count": 144,
   "metadata": {},
   "outputs": [
    {
     "name": "stdout",
     "output_type": "stream",
     "text": [
      "   TruePositiveRate  FalsePositiveRate\n",
      "0               0.0           0.000000\n",
      "1               0.0           0.010638\n"
     ]
    },
    {
     "data": {
      "image/png": "[encoded data removed]",
      "text/plain": [
       "<Figure size 432x288 with 1 Axes>"
      ]
     },
     "metadata": {
      "needs_background": "light"
     },
     "output_type": "display_data"
    },
    {
     "name": "stdout",
     "output_type": "stream",
     "text": [
      "        0     1\n",
      "568  0.26  0.74\n",
      "620  0.77  0.23\n",
      "456  0.58  0.42\n",
      "197  0.97  0.03\n",
      "714  0.67  0.33\n",
      "..    ...   ...\n",
      "581  0.94  0.06\n",
      "300  0.24  0.76\n",
      "110  0.45  0.55\n",
      "450  0.99  0.01\n",
      "21   0.67  0.33\n",
      "\n",
      "[262 rows x 2 columns]\n"
     ]
    }
   ],
   "source": [
    "\n",
    "\n",
    "clf = RandomForestClassifier()\n",
    "clf.fit(X_train,Y_train)\n",
    "y_pred = clf.predict_proba(X_test)\n",
    "\n",
    "probs = pd.DataFrame(y_pred, index = X_test.index)\n",
    "probs_col = probs.iloc[:,1]\n",
    "trueClass = pd.DataFrame(Y_test)\n",
    "\n",
    "test = ROC(probs,trueClass)\n",
    "Roc_coordinates = test.compute_ROC_coordinates(probs,trueClass)\n",
    "print(Roc_coordinates)\n",
    "\n",
    "test.plot_roc_curve(Roc_coordinates)\n",
    "\n",
    "test.compute_AUC(Roc_coordinates)\n",
    "print(probs)"
   ]
  },
  {
   "cell_type": "code",
   "execution_count": null,
   "metadata": {},
   "outputs": [],
   "source": []
  },
  {
   "cell_type": "code",
   "execution_count": null,
   "metadata": {},
   "outputs": [],
   "source": []
  }
 ],
 "metadata": {
  "kernelspec": {
   "display_name": "Python 3",
   "language": "python",
   "name": "python3"
  },
  "language_info": {
   "codemirror_mode": {
    "name": "ipython",
    "version": 3
   },
   "file_extension": ".py",
   "mimetype": "text/x-python",
   "name": "python",
   "nbconvert_exporter": "python",
   "pygments_lexer": "ipython3",
   "version": "3.8.3"
  }
 },
 "nbformat": 4,
 "nbformat_minor": 4
}
